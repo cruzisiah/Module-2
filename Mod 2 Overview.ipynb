{
 "cells": [
  {
   "cell_type": "markdown",
   "metadata": {},
   "source": [
    "Welcome to my Module 2 Final Project on House Prices in King County, Seattle!"
   ]
  },
  {
   "cell_type": "markdown",
   "metadata": {},
   "source": [
    "Below is a legend of what you will find in my code / notebook:"
   ]
  },
  {
   "cell_type": "markdown",
   "metadata": {},
   "source": [
    "I. Data Cleaning\n",
    "    A. Removing null values\n",
    "    B. Refinement\n",
    "    C. Data types\n",
    "    D. Converting to categorical\n",
    "    E. Removing outliers\n",
    "    \n",
    "II. Data Exploration & Analysis\n",
    "    A. Multicollinearity\n",
    "    B. Visualization #1: Basement\n",
    "    C. Visualization #2: Timing / Month\n",
    "    D. Visualization #3: Other Spaces\n",
    "    \n",
    "III. Multiple Linear Regression Model\n",
    "    A. Feature Scaling & Normalization\n",
    "    B. Categorical Variables\n",
    "    C. Train / Test Split\n",
    "    D. Ordinary Least Squares (OLS)"
   ]
  },
  {
   "cell_type": "markdown",
   "metadata": {},
   "source": [
    "Below is a summary of my findings:"
   ]
  },
  {
   "cell_type": "markdown",
   "metadata": {},
   "source": [
    "1)\n",
    "\n",
    "Houses sell for the most between April-June (high demand)\n",
    "Houses sell for the least between December-February (low demand)\n",
    "The most homes sell in May (high inventory)\n",
    "The least homes sell in January (low inventory)\n",
    "\n",
    "2) \n",
    "\n",
    "More bedrooms = higher price with some important exceptions\n",
    "More bathrooms = higher price with few exceptions\n",
    "\n",
    "3) \n",
    "\n",
    "There is a minimal 0.18 correlation between the presence of a basement and price\n",
    "80% of the top 20 highest selling homes have a basement\n",
    "\n",
    "4)\n",
    "\n",
    "Higher grade = higher price with a strong linear relationship"
   ]
  },
  {
   "cell_type": "markdown",
   "metadata": {},
   "source": [
    "Finally, my conclusion:"
   ]
  },
  {
   "cell_type": "code",
   "execution_count": null,
   "metadata": {},
   "outputs": [],
   "source": []
  }
 ],
 "metadata": {
  "kernelspec": {
   "display_name": "Python 3",
   "language": "python",
   "name": "python3"
  },
  "language_info": {
   "codemirror_mode": {
    "name": "ipython",
    "version": 3
   },
   "file_extension": ".py",
   "mimetype": "text/x-python",
   "name": "python",
   "nbconvert_exporter": "python",
   "pygments_lexer": "ipython3",
   "version": "3.6.9"
  }
 },
 "nbformat": 4,
 "nbformat_minor": 2
}
